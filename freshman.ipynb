{
 "cells": [
  {
   "cell_type": "code",
   "execution_count": null,
   "id": "08b536b9",
   "metadata": {},
   "outputs": [],
   "source": [
    "import numpy as np"
   ]
  },
  {
   "cell_type": "code",
   "execution_count": null,
   "id": "10e7b341",
   "metadata": {},
   "outputs": [],
   "source": [
    "#定义函数\n",
    "def sum(arg1,arg2):\n",
    "    total = arg1 + arg2\n",
    "    return total"
   ]
  },
  {
   "cell_type": "code",
   "execution_count": null,
   "id": "8f0750fc",
   "metadata": {},
   "outputs": [],
   "source": [
    "dd"
   ]
  },
  {
   "cell_type": "code",
   "execution_count": null,
   "id": "6c876d3d",
   "metadata": {},
   "outputs": [],
   "source": [
    "num = 8"
   ]
  },
  {
   "cell_type": "code",
   "execution_count": null,
   "id": "a83d5622",
   "metadata": {
    "scrolled": true
   },
   "outputs": [],
   "source": [
    "list_1 = [x for x in range(1,10,2)]\n",
    "print(list_1)"
   ]
  },
  {
   "cell_type": "code",
   "execution_count": null,
   "id": "a4015131",
   "metadata": {},
   "outputs": [],
   "source": [
    "list_2 = []\n",
    "for x in range(1,10):\n",
    "    list_2.append(x*x)\n",
    "print(list_2)"
   ]
  },
  {
   "cell_type": "code",
   "execution_count": null,
   "id": "a02c72cf",
   "metadata": {},
   "outputs": [],
   "source": [
    "list=[x**2 for x in range(1,10) if x%2==0]#列表推导式，层层递进嵌套，**表示几次方\n",
    "print(list)"
   ]
  },
  {
   "cell_type": "code",
   "execution_count": null,
   "id": "ca4b7c48",
   "metadata": {},
   "outputs": [],
   "source": [
    "#append往列表里添加元素\n",
    "list_5 = [[1,2,3],[4,5,6],[7,8,9]]\n",
    "list_6 = []\n",
    "for y in list_5:\n",
    "    for x in y:\n",
    "        if x%2 == 0:\n",
    "            list_6.append(x)\n",
    "print(list_6)\n",
    "list_6.append(7)\n",
    "print(list_6)"
   ]
  },
  {
   "cell_type": "code",
   "execution_count": null,
   "id": "9ab44b21",
   "metadata": {},
   "outputs": [],
   "source": [
    "list_5 = [[1,2,3],[4,5,6],[7,8,9]]\n",
    "list_6 = [x for y in list_5 for x in y if x%2==0]#上面的简写\n",
    "print(list_6)"
   ]
  },
  {
   "cell_type": "code",
   "execution_count": null,
   "id": "45ef1a05",
   "metadata": {
    "scrolled": true
   },
   "outputs": [],
   "source": [
    "# format字符串格式化\n",
    "name = \"lgh\"\n",
    "nickname = \"sqjs\"\n",
    "print(\"my name is {},my nickname is {}\".format(name,nickname))"
   ]
  },
  {
   "cell_type": "code",
   "execution_count": null,
   "id": "a7ec19a4",
   "metadata": {},
   "outputs": [],
   "source": [
    "#列表\n",
    "list_1 = [3,2,4,6]\n",
    "print(list_1[-1])\n",
    "list_1[-1] = 2#修改列表\n",
    "print(list_1)\n",
    "print('len(list_1)=',len(list_1),'hahaha')\n",
    "print(min(list_1))\n",
    "print(list_1.index(min(list_1)))#返回某元素的index\n",
    "print('2出现了',list_1.count(2))#\n",
    "\n",
    "#列表增加删除元素\n",
    "list_6 = [1,2,3,4]\n",
    "list_6.insert(3,2)#插入元素\n",
    "print('list_6=',list_6)\n",
    "list_7 = [2,4,6]\n",
    "del list_7[1]#删除元素del\n",
    "print('list_7 =',list_7)\n",
    "\n",
    "#用pop删除元素并接着使用他的值（弹出栈顶，也可以不是栈顶）\n",
    "list_8 = [1,2,3,4]\n",
    "print('list_8.pop() =',list_8.pop(0))#删除的值放在pop这个表里面\n",
    "\n",
    "#用remove删除值（只能删除第一次出现的值，如果要删除多次出现的值需要用循环，后面再学）\n",
    "list_9 = [1,2,3,4]\n",
    "list_9.remove(2)\n",
    "print('list_9 =',list_9)\n",
    "\n",
    "#列表切片\n",
    "print(list_1[0:2])\n",
    "print(list_1[0:len(list_1)])#最后一个元素不包括len\n",
    "print(list_1[:])#这两种写法是一样的\n",
    "print(list_1[0:len(list_1):2])#隔一个元素切片（最后一个表示step）\n",
    "\n",
    "#字符串切片\n",
    "url = 'lgh python'\n",
    "print(url[0:len(url)])\n",
    "print('len of url is',len(url))\n",
    "\n",
    "#序列内置函数len,max,min,list转换为列表，sum,sorted排序,reversed反向\n",
    "print('sum(list_1)=',sum(list_1))\n",
    "print('sorted(list_1)=',sorted(list_1))\n",
    "\n",
    "#一个反向排序的训练\n",
    "list_2 = [x for x in range(0+1,len(list_1)+1)]#左闭右开,申请一个len相同的列表，\n",
    "#暂时没发现其他更优办法，+不+1无所谓\n",
    "for i in range(0,len(list_1)):\n",
    "    list_2[i] = list_1[-(i+1)]\n",
    "list_1 = list_2\n",
    "print('new list_1=',list_1)\n",
    "\n"
   ]
  },
  {
   "cell_type": "code",
   "execution_count": null,
   "id": "fc5aadb2",
   "metadata": {},
   "outputs": [],
   "source": [
    "#元组（元组内容不可更改）暂时没发现元组有什么用\n",
    "tuple_1 = (1,2,3)\n",
    "print(tuple_1)\n",
    "a = tuple_1[0]\n",
    "print(a)"
   ]
  },
  {
   "cell_type": "code",
   "execution_count": null,
   "id": "94abcc5c",
   "metadata": {},
   "outputs": [],
   "source": [
    "#求质数01\n",
    "num = input('输入需要判断的数:')\n",
    "print(type(num))\n",
    "num = int(num)\n",
    "print(type(num))\n",
    "for i in range(2,num):\n",
    "    if num%i==0:\n",
    "        print(num,'不是质数')\n",
    "        break#注意这个break的位置\n",
    "else:\n",
    "    print(num,'是质数')"
   ]
  },
  {
   "cell_type": "code",
   "execution_count": null,
   "id": "19616e03",
   "metadata": {},
   "outputs": [],
   "source": [
    "#求质数02\n",
    "num = input('输入需要判断的数:')\n",
    "print(type(num))\n",
    "num = int(num)\n",
    "print(type(num))\n",
    "for i in range(2,num):\n",
    "    if num%i == 0:\n",
    "        k=0\n",
    "        break#注意这个break的位置\n",
    "    else:\n",
    "        k=1\n",
    "if k == 0:\n",
    "    print(num,'不是质数')\n",
    "else:\n",
    "    print(num,'是质数')"
   ]
  },
  {
   "cell_type": "code",
   "execution_count": null,
   "id": "fce31267",
   "metadata": {},
   "outputs": [],
   "source": [
    "#求质数03 while代替for\n",
    "num = input('输入需要判断的数:')\n",
    "num = int(num)\n",
    "\n",
    "i = 2\n",
    "while i < num:\n",
    "    if num%i==0:\n",
    "        print(num,'不是质数')\n",
    "        break\n",
    "    else:\n",
    "        i=i+1\n",
    "else:\n",
    "    print(num,'是质数')"
   ]
  },
  {
   "cell_type": "code",
   "execution_count": null,
   "id": "02986ef3",
   "metadata": {},
   "outputs": [],
   "source": [
    "#找质因数\n",
    "n = int(input('input number:'))\n",
    "list = []#存放因数\n",
    "for i in range(2,n):\n",
    "    if n % i == 0:\n",
    "        list.append(i)\n",
    "        continue#这句没用，用于跳过下面的部分进入下一次循环\n",
    "    else:\n",
    "        pass#这句没用\n",
    "if len(list) == 0:\n",
    "    print('质数')\n",
    "else:\n",
    "    print(list)\n",
    "        "
   ]
  },
  {
   "cell_type": "code",
   "execution_count": null,
   "id": "be4b4407",
   "metadata": {
    "scrolled": true
   },
   "outputs": [],
   "source": [
    "#字符串及函数\n",
    "print('sqjslgh'.find('lgh'))#从左开始查找,返回子串的第一个下标\n",
    "print('sqjslgh'.count('s'))#子串s出现了几次\n",
    "#这里的函数太多了，用到再查把\n",
    "#字符串格式化\n",
    "print('{} {} {}'.format('sqjslgh','can','be'))#format用法\n",
    "print('sqjslgh can be good')\n"
   ]
  },
  {
   "cell_type": "code",
   "execution_count": null,
   "id": "a571187f",
   "metadata": {},
   "outputs": [],
   "source": [
    "#3.3.1使用方法sort() 对列表进行永久性排序\n",
    "list_1 = [2,1,5,4]\n",
    "list_1.sort()\n",
    "print(list_1)\n",
    "#3.3.2使用方法sorted() 对列表进行非永久性排序\n",
    "list_2 = [2,1,5,4]\n",
    "sorted(list_2)#这里比较特殊，注意下\n",
    "print(list_2)\n",
    "print(sorted(list_2))\n",
    "#3.3.3倒着打印列表(这是永久改变，如要改回来再用一次reverse就行)\n",
    "list_3 = [5,6,2]\n",
    "list_3.reverse()\n",
    "print(list_3)"
   ]
  },
  {
   "cell_type": "code",
   "execution_count": null,
   "id": "0ebc790f",
   "metadata": {},
   "outputs": [],
   "source": [
    "#4.1 遍历整个列表\n",
    "list_1 = [1,2,3,5]\n",
    "list_2 = []\n",
    "for x in list_1:\n",
    "    list_2.append(x)\n",
    "print(list_2)"
   ]
  },
  {
   "cell_type": "code",
   "execution_count": null,
   "id": "2faed298",
   "metadata": {
    "scrolled": true
   },
   "outputs": [],
   "source": [
    "#4.3 创建数值列表\n",
    "#4.3.1 使用函数range（）\n",
    "for x in range(1,6,2):\n",
    "    print(x)\n",
    "#4.3.2 使用函数range（）创建数字列表\n",
    "list_1 = list(range(1,6,2))\n",
    "print(list_1)\n",
    "#4.3.4 使用列表解析让一行代码就生成列表\n",
    "list_2 = [x for x in range(1,6,2)]\n",
    "print(list_2)"
   ]
  },
  {
   "cell_type": "code",
   "execution_count": null,
   "id": "1482702c",
   "metadata": {},
   "outputs": [],
   "source": [
    "#4.4 使用列表的一部分\n",
    "#4.4.1 切片\n",
    "list_1 = [1,2,3,4,5,6]\n",
    "list_2 = []\n",
    "print(list_1[0:3:2])#左闭右开\n",
    "print(list_1[-2:])#输出最后两位\n",
    "#4.4.2 遍历切片\n",
    "for x in list_1[0:3:2]:\n",
    "    list_2.append(x)\n",
    "print(list_2)"
   ]
  },
  {
   "cell_type": "code",
   "execution_count": null,
   "id": "af0553a6",
   "metadata": {},
   "outputs": [],
   "source": [
    "#4.5 元组（不可改变单个值）\n",
    "#4.5.3 修改元组变量\n",
    "tuple_1 = (1,2,3,4)\n",
    "tuple_1 = (2,4,6)\n",
    "print(tuple_1[0])"
   ]
  },
  {
   "cell_type": "code",
   "execution_count": null,
   "id": "3fbe33a9",
   "metadata": {},
   "outputs": [],
   "source": [
    "#5.2.5 if 中检验多个条件用and,or\n",
    "a = 1\n",
    "if a!=2 and a!=3:\n",
    "    print('!=')\n",
    "if a==1 or a==2:\n",
    "    print('!')"
   ]
  },
  {
   "cell_type": "code",
   "execution_count": null,
   "id": "58963498",
   "metadata": {},
   "outputs": [],
   "source": [
    "#5.2.6 检查特定值是否包含在列表中\n",
    "list_1 = [1,2,3]\n",
    "if 4 in list_1:\n",
    "    print('in')\n",
    "if 4 not in list_1:\n",
    "    print('not in')"
   ]
  },
  {
   "cell_type": "code",
   "execution_count": null,
   "id": "ff5587d4",
   "metadata": {},
   "outputs": [],
   "source": [
    "#5.3.3 if elif else\n",
    "list_1 = [1,2,3,4]\n",
    "if 5 in list_1:\n",
    "    print('1')\n",
    "elif 2 in list_1:\n",
    "    print('2')\n",
    "else:\n",
    "    print('3')#三个中只会执行一项"
   ]
  },
  {
   "cell_type": "code",
   "execution_count": null,
   "id": "9e38d17c",
   "metadata": {
    "scrolled": true
   },
   "outputs": [],
   "source": [
    "#5.4.2 确保列表不是空的\n",
    "requested_toppings = [1,2,3]\n",
    "if requested_toppings:\n",
    "    for requested_topping in requested_toppings:\n",
    "        print(requested_topping)\n",
    "    print(\"\\nFinished making your pizza!\") \n",
    "else:\n",
    "    print(\"Are you sure you want a plain pizza?\")"
   ]
  },
  {
   "cell_type": "code",
   "execution_count": null,
   "id": "ada27600",
   "metadata": {},
   "outputs": [],
   "source": [
    "#6 字典\n",
    "dict_1 = {}\n",
    "dict_1[1] = '1'\n",
    "dict_1[2] = 3\n",
    "print(dict_1)\n",
    "#6.2.4 修改字典的值(键值对可以为任意形式的变量)\n",
    "dict_1[1] = 3\n",
    "print(dict_1)\n",
    "#6.2.5 删除字典中的键值对\n",
    "del dict_1[1]\n",
    "print(dict_1)"
   ]
  },
  {
   "cell_type": "code",
   "execution_count": null,
   "id": "65a53381",
   "metadata": {},
   "outputs": [],
   "source": [
    "#6.2.6 由类似对象组成的字典(就是一个格式问题)\n",
    "dict_1 = {\n",
    "    1:2,\n",
    "    2:4\n",
    "}\n",
    "print(dict_1)"
   ]
  },
  {
   "cell_type": "code",
   "execution_count": null,
   "id": "c2f93c5b",
   "metadata": {
    "scrolled": true
   },
   "outputs": [],
   "source": [
    "#6.3 遍历字典\n",
    "#6.3.1 遍历键值对\n",
    "dict_1 = {\n",
    "    8:4,\n",
    "    2:2,\n",
    "    3:2\n",
    "}\n",
    "for a, b in dict_1.items():#别漏了items\n",
    "    print(a)\n",
    "    print(b)\n",
    "#6.3.2 遍历键\n",
    "for a in dict_1.keys():\n",
    "    print(a)\n",
    "#6.3.3 按顺序遍历键\n",
    "for a in sorted(dict_1.keys()):#临时排序从小到大\n",
    "    print(a)\n",
    "#6.3.4 遍历值\n",
    "print('遍历值')\n",
    "for a in dict_1.values():\n",
    "    print(a)\n",
    "print('用set遍历独一无二的值')\n",
    "for a in set(dict_1.values()):\n",
    "    print(a)"
   ]
  },
  {
   "cell_type": "code",
   "execution_count": null,
   "id": "24d4fb17",
   "metadata": {},
   "outputs": [],
   "source": [
    "#6.4 嵌套\n",
    "#6.4.1 字典列表（即在列表中存储字典）\n",
    "list_1 = []\n",
    "for a in range(3):\n",
    "    dict_1 = {1:2,\n",
    "             2:3,\n",
    "             3:4}\n",
    "    list_1.append(dict_1)\n",
    "print(list_1)\n",
    "for a in list_1[0:1]:#记住是左闭右开，这个a有点特殊多看看\n",
    "#a不仅存储值，对a的改动还会直接反应到list里面\n",
    "    if a[1] == 2:\n",
    "        a[1] = 3#注意对齐问题\n",
    "print(list_1)"
   ]
  },
  {
   "cell_type": "code",
   "execution_count": null,
   "id": "e32b0d1f",
   "metadata": {
    "scrolled": true
   },
   "outputs": [],
   "source": [
    "#6.4.2 在字典中存储列表\n",
    "class_1 = {\n",
    "    'number':[3,2,1],\n",
    "    'score':[98,99,100]\n",
    "          }\n",
    "list_1 = [class_1]*3#注意这种写法\n",
    "print(list_1)\n",
    "for a in list_1[0:1]:\n",
    "    print(a['number'])\n",
    "    a['number'][1]=3\n",
    "    print(a['number'])\n",
    "print(a['number'])#注意这两行的区别\n",
    "print('list_1 = ',list_1)"
   ]
  },
  {
   "cell_type": "code",
   "execution_count": null,
   "id": "0bae4355",
   "metadata": {},
   "outputs": [],
   "source": [
    "#6.4.3 在字典中存储字典\n",
    "class_1 = {\n",
    "    'lgh':{'num':[1,5,9],'score':98},\n",
    "    'like':{'num':2,'score':97}\n",
    "}\n",
    "for key,value in class_1.items():\n",
    "    print(value['num'])"
   ]
  },
  {
   "cell_type": "code",
   "execution_count": null,
   "id": "1273ce47",
   "metadata": {
    "scrolled": false
   },
   "outputs": [],
   "source": [
    "#7.1 input\n",
    "a = input('input:')\n",
    "print('a =',a)\n",
    "print(type(a))\n",
    "a = float(a)\n",
    "print(type(a))"
   ]
  },
  {
   "cell_type": "code",
   "execution_count": null,
   "id": "eb3bc7d0",
   "metadata": {
    "scrolled": true
   },
   "outputs": [],
   "source": [
    "#7.2 while循环\n",
    "a = 1\n",
    "while a <= 3:\n",
    "    print(a)\n",
    "    a += 1\n",
    "#7.2.3 使用标志\n",
    "prompt = \"\\nTell me something, and I will repeat it back to you:\"\n",
    "prompt += \"\\nEnter 'quit' to end the program. \" \n",
    "message = \"\" \n",
    "while message != 'quit':\n",
    "    message = input(prompt)\n",
    "    if message == 'quit':\n",
    "        break\n",
    "    else:\n",
    "        print(message)"
   ]
  },
  {
   "cell_type": "code",
   "execution_count": null,
   "id": "c885bce5",
   "metadata": {
    "scrolled": true
   },
   "outputs": [],
   "source": [
    "#7.2.5 在循环中使用continue以直接回到循环的开头\n",
    "a = 0\n",
    "while a <= 10:\n",
    "    a += 1\n",
    "    if a % 2 ==0:\n",
    "        continue\n",
    "    print(a)"
   ]
  },
  {
   "cell_type": "code",
   "execution_count": null,
   "id": "63158c80",
   "metadata": {},
   "outputs": [],
   "source": [
    "#7.3 使用while循环来处理列表字典\n",
    "#7.3.1 在列表之间移动元素\n",
    "list_1 = [1,2,3]\n",
    "list_2 = []\n",
    "while list_1:\n",
    "    a = list_1.pop()#pop可以储存\n",
    "    list_2.append(a)\n",
    "print(list_2)"
   ]
  },
  {
   "cell_type": "code",
   "execution_count": null,
   "id": "27955e6f",
   "metadata": {
    "scrolled": false
   },
   "outputs": [],
   "source": [
    "#7.3.2 删除特定值的所有列表元素#remove无法储存\n",
    "list_1 = [1,1,2,3]\n",
    "while 1 in list_1:\n",
    "    list_1.remove(1)\n",
    "print(list_1)"
   ]
  },
  {
   "cell_type": "code",
   "execution_count": null,
   "id": "47ae0eff",
   "metadata": {},
   "outputs": [],
   "source": [
    "#7.3.3 使用用户输入来填充字典\n",
    "dict_1 = {}\n",
    "mark = True\n",
    "a = 1\n",
    "while mark:\n",
    "    name = input('name = ')\n",
    "    age = input('age = ')\n",
    "    dict_1[name] = age\n",
    "    a += 1\n",
    "    if a == 3:\n",
    "        mark = False\n",
    "print(dict_1)"
   ]
  },
  {
   "cell_type": "code",
   "execution_count": null,
   "id": "c03fd1f9",
   "metadata": {},
   "outputs": [],
   "source": [
    "#8.2.1 位置实参\n",
    "def f1(num,score):\n",
    "    print(num)\n",
    "    print(score)\n",
    "f1(1,2)\n",
    "f1('sd','ad')"
   ]
  },
  {
   "cell_type": "code",
   "execution_count": null,
   "id": "f0b0e212",
   "metadata": {},
   "outputs": [],
   "source": [
    "#8.2.2 关键字实参\n",
    "def d1(num,score):\n",
    "    print(num)\n",
    "    print(score)\n",
    "f1(score=98,num=1)"
   ]
  },
  {
   "cell_type": "code",
   "execution_count": null,
   "id": "b9097e3a",
   "metadata": {
    "scrolled": true
   },
   "outputs": [],
   "source": [
    "#8.2.3 默认值（感觉没什么用）\n",
    "def d1(num,score=90):\n",
    "    print(num)\n",
    "    print(score)\n",
    "d1(3,80)"
   ]
  },
  {
   "cell_type": "code",
   "execution_count": null,
   "id": "1acc5215",
   "metadata": {
    "scrolled": false
   },
   "outputs": [],
   "source": [
    "#8.3.2 让实参变成可选的\n",
    "def sum1(a,b,c=0):\n",
    "    if c:\n",
    "        return(a+b+c)\n",
    "    else:\n",
    "        return(a+b)\n",
    "sum1(1,2,1)"
   ]
  },
  {
   "cell_type": "code",
   "execution_count": null,
   "id": "8a86749e",
   "metadata": {},
   "outputs": [],
   "source": [
    "#8.3.3 返回字典(这个很重要)\n",
    "def make_album():\n",
    "    album = {}\n",
    "    print('Press q to quit\\n')\n",
    "    while True:\n",
    "        a = input('artist = ')\n",
    "        b = input('song = ')\n",
    "        if a == 'q' or b == 'q':\n",
    "            break\n",
    "        else:\n",
    "            album[a] = b#更新字典内容\n",
    "    return(album)\n",
    "\n",
    "new = make_album()\n",
    "print(new)"
   ]
  },
  {
   "cell_type": "code",
   "execution_count": null,
   "id": "bea78c13",
   "metadata": {},
   "outputs": [],
   "source": [
    "#8.4 传递列表\n",
    "#8.4.1 在函数中传递列表\n",
    "def change(list_1,list_2):\n",
    "    while list_1:\n",
    "        list_2.append(list_1.pop())\n",
    "    return(list_1)\n",
    "list_1 = [1,2,3]\n",
    "list_2 = []\n",
    "print(change(list_1[:],list_2))#8.4.2保留了原始列表的内容\n",
    "print(list_1)\n",
    "print(change(list_1,list_2))\n",
    "print(list_1)"
   ]
  },
  {
   "cell_type": "code",
   "execution_count": null,
   "id": "49094b7d",
   "metadata": {},
   "outputs": [],
   "source": [
    "#8.5 传递任意数量的实参\n",
    "def class_1(name,*score):#*创造一个空元组用于创造\n",
    "#如果让函数接收不同类型的实参，必须在函数定义中将接纳任意实参的形参放在最后\n",
    "#派森先匹配位置实参和关键字实参，最后将余下的实参收到最后一个形参中\n",
    "    for s in score:\n",
    "        print(s)\n",
    "class_1('lgh',1,2,3)\n",
    "    \n"
   ]
  },
  {
   "cell_type": "code",
   "execution_count": null,
   "id": "11afc574",
   "metadata": {},
   "outputs": [],
   "source": [
    "#8.5.2 使用任意数量的关键字实参\n",
    "#可将函数编写成能够接受任意数量的键—值对\n",
    "def info(first,last,**user_info):#**设置一个字典\n",
    "    profile = {}\n",
    "    profile[0] = first\n",
    "    profile['last_name'] = last\n",
    "    for key,value in user_info.items():\n",
    "        profile[key] = value\n",
    "    return(profile)"
   ]
  },
  {
   "cell_type": "code",
   "execution_count": null,
   "id": "052ae495",
   "metadata": {},
   "outputs": [],
   "source": [
    "#8.6 将函数存储在模块中\n",
    "print(info('mike','dawes',country = 'CN',age = '21'))"
   ]
  },
  {
   "cell_type": "code",
   "execution_count": null,
   "id": "b10ce1a3",
   "metadata": {},
   "outputs": [],
   "source": [
    "#9.1.2 根据类创建实例\n",
    "class Car():\n",
    "    def __init__(self,make,model,year):\n",
    "        self.make = make \n",
    "        self.model = model\n",
    "        self.year = year\n",
    "    def get_description_name(self):\n",
    "        long_name = str(self.year) + ' ' + self.make + ' ' + self.model\n",
    "        return long_name.title()\n",
    "\n",
    "my_new_car = Car('audi','a4',2016)\n",
    "print(my_new_car.get_description_name())"
   ]
  },
  {
   "cell_type": "code",
   "execution_count": 7,
   "id": "631c38a2",
   "metadata": {
    "scrolled": true
   },
   "outputs": [
    {
     "name": "stdout",
     "output_type": "stream",
     "text": [
      "This car has 0 miles on it.\n",
      "None\n",
      "5\n",
      "23\n",
      "35\n"
     ]
    }
   ],
   "source": [
    "#9.2.2 给属性制定默认值\n",
    "class Car():\n",
    "    def __init__(self,make,model,year):#每次运行类\n",
    "        self.make = make \n",
    "        self.model = model\n",
    "        self.year = year\n",
    "        self.odometer = 0#默认值\n",
    "    def get_description_name(self):\n",
    "        long_name = str(self.year) + ' ' + self.make + ' ' + self.model\n",
    "        return long_name.title()\n",
    "    def read_odometer(self):\n",
    "        print('This car has '+str(self.odometer)+' miles on it.')\n",
    "    def update_odometer(self,mileage):#2通过方法修改属性的值\n",
    "        self.odometer = mileage\n",
    "    def increase_odometer(self,miles):\n",
    "        self.odometer += miles\n",
    "my_new_car = Car('audi','a4',2016)\n",
    "print(my_new_car.read_odometer())\n",
    "#9.2.3 修改属性的值\n",
    "#1直接修改属性的值\n",
    "my_new_car.odometer = 5\n",
    "print(my_new_car.odometer)\n",
    "#2通过方法修改属性的值\n",
    "my_new_car.update_odometer(23)\n",
    "print(my_new_car.odometer)\n",
    "#3通过方法对属性的值进行递增\n",
    "my_new_car.increase_odometer(12)\n",
    "print(my_new_car.odometer)"
   ]
  },
  {
   "cell_type": "code",
   "execution_count": 9,
   "id": "87361567",
   "metadata": {},
   "outputs": [
    {
     "name": "stdout",
     "output_type": "stream",
     "text": [
      "2016 Tesla Model\n",
      "battery size is 70\n"
     ]
    }
   ],
   "source": [
    "#9.3 继承\n",
    "#9.3.1 子类的方法\n",
    "class ECars(Car):#这个Car不能少\n",
    "    def __init__(self,make,model,year):#init千万别写错\n",
    "        super().__init__(make,model,year)#超类即父类\n",
    "        self.battery_size = 70#给子类定义属性和方法\n",
    "    def describe_battery(self):#给子类定义属性和方法\n",
    "        print('battery size is '+ str(self.battery_size))\n",
    "my_tesla = ECars('tesla','model',2016)\n",
    "print(my_tesla.get_description_name())\n",
    "my_tesla.describe_battery()"
   ]
  },
  {
   "cell_type": "code",
   "execution_count": 3,
   "id": "4fae7060",
   "metadata": {},
   "outputs": [
    {
     "name": "stdout",
     "output_type": "stream",
     "text": [
      "This car has 0 plusmiles on it.\n"
     ]
    }
   ],
   "source": [
    "#9.3.4 重写父类的方法\n",
    "class ElectricalCars(Car):\n",
    "    def __init__(self,make,model,year):\n",
    "        super().__init__(make,model,year)\n",
    "    def read_odometer(self,mileage):#直接把前面那个方法给覆盖掉\n",
    "         print('This car has '+str(self.odometer)+' plusmiles on it.')\n",
    "my_qq = ElectricalCars('qq','type1',2022)\n",
    "my_qq.read_odometer(22)\n",
    "\n"
   ]
  },
  {
   "cell_type": "code",
   "execution_count": 24,
   "id": "43b28855",
   "metadata": {},
   "outputs": [
    {
     "name": "stdout",
     "output_type": "stream",
     "text": [
      "60\n"
     ]
    }
   ],
   "source": [
    "#9.3.5 将实例用作属性\n",
    "class Battery():\n",
    "    def __init__(self,battery_size=70):\n",
    "        self.battery_size = battery_size\n",
    "\n",
    "class ECars(Car):#这个Car不能少假如要继承\n",
    "    def __init__(self,make,model,year):#init千万别写错\n",
    "        self.Battery = Battery()#将实例用作属性\n",
    "        \n",
    "my_qq = ECars('qq','type1',2020)\n",
    "my_qq.Battery.battery_size = 60#修改属性的值\n",
    "print(my_qq.Battery.battery_size)#这里老是出错"
   ]
  },
  {
   "cell_type": "code",
   "execution_count": null,
   "id": "72cf6acc",
   "metadata": {},
   "outputs": [],
   "source": [
    "#9.4.3 从一个模块中导入多个类\n",
    "from car import Car,Electrical\n",
    "#9.4.4 导入整个模块\n",
    "import car\n",
    "#9.4.5 导入模块中的所有类\n",
    "from car import *\n"
   ]
  },
  {
   "cell_type": "code",
   "execution_count": null,
   "id": "a079fd71",
   "metadata": {},
   "outputs": [],
   "source": [
    "#10 文件和异常\n",
    "#10.1.1 读取整个文件\n",
    "with open('pi_digits.txt') as file_object:\n",
    "    contents = file_object.read()#read在末尾时会返回一个空的字符串\n",
    "#10.1.2 文件路径\n",
    "with open('text_files\\filename.txt') as file_object:#文件路径用反斜杠，这叫相对路径\n",
    "#绝对路径\n",
    "file_path = 'C:\\Users\\other'\n",
    "with open(file_path) as file_object:\n",
    "#10.1.3 逐行读取\n",
    "file_name = 'asd.txt'\n",
    "with open(filename) as file_object:\n",
    "    for line in file_object:\n",
    "        print(line.restrip())#消除行\n",
    "#10.1.4 创建一个包含文件各行内容的列表\n",
    "file_name = 'asd.txt'\n",
    "with open(filename) as file_object:\n",
    "    lines = file_object.readlines()#从文件中读取每一行，将其存储在一个列表内\n",
    "for line in lines:\n",
    "    print(line.rstrip())\n",
    "#10.1.5 使用文件的内容\n",
    "file_name = 'asd.txt'\n",
    "with open(filename) as file_project:\n",
    "    lines = file_object.readlines()\n",
    "pi_string = ''\n",
    "for line in lines:\n",
    "    pi_string += line.strip()#strip删除位于每行左边的空格\n",
    "print(pi_strng)\n",
    "print(len(pi_string))\n",
    "#10.1.6 包含一百万位的大型文件\n",
    "file_name = 'pi_million_digits.txt'\n",
    "with open(filename) as file_project:\n",
    "    lines = file_project.readlines()\n",
    "pi_string = ''\n",
    "for line in lines:\n",
    "    pi_string += line.strip()\n",
    "print(pi_string[:52]+'...')\n",
    "#10.1.7 圆周率值中包含你的生日吗\n",
    "birthday = input('enter you birthday')\n",
    "if birthday in pi_string:\n",
    "    print('yes')\n",
    "else:\n",
    "    print('no')"
   ]
  },
  {
   "cell_type": "code",
   "execution_count": null,
   "id": "b85b3f86",
   "metadata": {},
   "outputs": [],
   "source": [
    "#10.2 写入文件\n",
    "#10.2.1 写入空文件\n",
    "filename = '.txt'\n",
    "with open(filename,'w') as file_object:#'w'告诉python用写入模式打开这个文件\n",
    "    #如果省略‘w’则以默认的只读形式打开文件\n",
    "    file_object.write('I love programming')\n",
    "#10.2.2 写入多行\n",
    "    file_object.write('I love creating games.\\n')#可以输出到不同行\n",
    "#10.2.3 附加到文件\n",
    "with open(file_name,'a') as file_object#'a'告诉python用附加模式打开文件"
   ]
  },
  {
   "cell_type": "code",
   "execution_count": null,
   "id": "3d98656b",
   "metadata": {},
   "outputs": [],
   "source": [
    "#10.3 异常\n",
    "#10.3.2 使用try-except代码块\n",
    "try:\n",
    "    print(5/0)\n",
    "except ZeroDivisionError:\n",
    "    print('u cant devided by 0')\n",
    "#10.3.3 使用异常避免崩溃\n",
    "#10.3.4 else代码块\n",
    "while True:\n",
    "    first_num = input('\\nFirst number:')\n",
    "    if first_num == 'q':\n",
    "        break\n",
    "    secound_num = input('Secound number:')\n",
    "    try:#从这里开始 使用else代码块\n",
    "        answer = int(first_num)/int(secound_num)\n",
    "    except ZeroDivisionError:\n",
    "        print('u cant devided by 0')\n",
    "    else:\n",
    "        print(answer)\n",
    "#10.3.5 处理FileNotFound异常\n",
    "file_name = 'txt'\n",
    "try:\n",
    "    with open(file_name) as f_obj:\n",
    "        contents = f_obj.read()\\\n",
    "except FileNotFoundError:\n",
    "    msg = ''\n",
    "    print(msg)\n",
    "#10.3.6 分析文本\n"
   ]
  },
  {
   "cell_type": "code",
   "execution_count": null,
   "id": "d390d9d6",
   "metadata": {},
   "outputs": [],
   "source": [
    "#10.3.7 使用多个文件（重要）\n",
    "def count_word(filename):\n",
    "    try:\n",
    "        with open(filename) as f_obj:\n",
    "            contents = f_obj.read()#这是一个字符串\n",
    "    except FileNotFoundError:\n",
    "        msg = ''\n",
    "        print(msg)\n",
    "    else:\n",
    "        words = contents.split()#这是一个列表\n",
    "        print('this file'+ filename)\n",
    "filenames = ['alice.txt','sda.txt']#把文件名放在列表中\n",
    "for filename in filenames:\n",
    "    count_words(filename)\n",
    "#即使文件不存在也能让这个程序处理其他文件"
   ]
  },
  {
   "cell_type": "code",
   "execution_count": null,
   "id": "04e21d89",
   "metadata": {},
   "outputs": [],
   "source": [
    "#10.3.8 失败时一声不吭\n",
    "except FileNotFoundError:\n",
    "    pass#用pass跳过"
   ]
  },
  {
   "cell_type": "code",
   "execution_count": null,
   "id": "ad8b3a4e",
   "metadata": {},
   "outputs": [],
   "source": [
    "#10.4 存储数据\n",
    "#10.4.1 使用json.dump()和json.load()\n",
    "import json\n",
    "numbers = [1,2,3,4,5,6]\n",
    "filename = 'numbers.json'#注意这个命名\n",
    "with open(filename,'w') as f_obj:\n",
    "    json.dump(numbers,f_obj)#把numbers中的数据传到filename的文件中\n",
    "with open(filename) as f_obj:\n",
    "    numbers = json.load(f_obj)#json.load是一个函数加载储存在filename中的信息,可以是字符串\n",
    "    "
   ]
  },
  {
   "cell_type": "code",
   "execution_count": null,
   "id": "8253f325",
   "metadata": {},
   "outputs": [],
   "source": [
    "#10.4.2 保存和读取用户生成的数据\n",
    "import json\n",
    "filename = 'username.json'\n",
    "try:\n",
    "    with open(filename) as f_obj:\n",
    "        username = json.load(f_obj)\n",
    "except FilesNotFoundError:\n",
    "    username = input('what is ur name')\n",
    "    with open(filename,'w') as f_obj:\n",
    "        json.dump(username,f_obj)\n",
    "        print(username)\n",
    "else:\n",
    "    print(username)#运行顺序为tryelse 或者except\n"
   ]
  },
  {
   "cell_type": "code",
   "execution_count": null,
   "id": "b84ce56b",
   "metadata": {},
   "outputs": [],
   "source": [
    "#10.4.3 重构：把代码分成一系列完成具体工作的函数\n",
    "import json\n",
    "def get"
   ]
  },
  {
   "cell_type": "code",
   "execution_count": null,
   "id": "5b3ed4ae",
   "metadata": {},
   "outputs": [],
   "source": [
    "#"
   ]
  }
 ],
 "metadata": {
  "kernelspec": {
   "display_name": "Python 3 (ipykernel)",
   "language": "python",
   "name": "python3"
  },
  "language_info": {
   "codemirror_mode": {
    "name": "ipython",
    "version": 3
   },
   "file_extension": ".py",
   "mimetype": "text/x-python",
   "name": "python",
   "nbconvert_exporter": "python",
   "pygments_lexer": "ipython3",
   "version": "3.9.7"
  }
 },
 "nbformat": 4,
 "nbformat_minor": 5
}
